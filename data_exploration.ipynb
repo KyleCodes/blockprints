{
  "nbformat": 4,
  "nbformat_minor": 0,
  "metadata": {
    "colab": {
      "name": "data-exploration.ipynb",
      "provenance": []
    },
    "kernelspec": {
      "name": "python3",
      "display_name": "Python 3"
    }
  },
  "cells": [
    {
      "cell_type": "markdown",
      "metadata": {
        "id": "hpyczIR61kkc"
      },
      "source": [
        "# Interesting insights\n",
        "\n"
      ]
    },
    {
      "cell_type": "code",
      "metadata": {
        "id": "VvQyBVLUXHFf"
      },
      "source": [
        "import pandas as pd"
      ],
      "execution_count": null,
      "outputs": []
    },
    {
      "cell_type": "code",
      "metadata": {
        "colab": {
          "base_uri": "https://localhost:8080/",
          "height": 419
        },
        "id": "nU7EdXs6XJgZ",
        "outputId": "541e7ad5-8e8d-4184-f54a-92832995a60d"
      },
      "source": [
        "df = pd.read_csv('https://raw.githubusercontent.com/KyleCodes/blockprints/main/metadata_joined_master.csv')\n",
        "\n",
        "# fruits[\"favorite_fruits\"] = fruits[\"favorite_fruits\"].apply(eval)\n",
        "df['genre_terms'] = df['genre_terms'].apply(eval)\n",
        "df['desc_tags'] = df['desc_tags'].apply(eval)\n",
        "\n",
        "df"
      ],
      "execution_count": null,
      "outputs": [
        {
          "output_type": "execute_result",
          "data": {
            "text/html": [
              "<div>\n",
              "<style scoped>\n",
              "    .dataframe tbody tr th:only-of-type {\n",
              "        vertical-align: middle;\n",
              "    }\n",
              "\n",
              "    .dataframe tbody tr th {\n",
              "        vertical-align: top;\n",
              "    }\n",
              "\n",
              "    .dataframe thead th {\n",
              "        text-align: right;\n",
              "    }\n",
              "</style>\n",
              "<table border=\"1\" class=\"dataframe\">\n",
              "  <thead>\n",
              "    <tr style=\"text-align: right;\">\n",
              "      <th></th>\n",
              "      <th>IMP_ID</th>\n",
              "      <th>filename</th>\n",
              "      <th>genre_terms</th>\n",
              "      <th>num_genres</th>\n",
              "      <th>desc_tags</th>\n",
              "      <th>num_desc_tags</th>\n",
              "    </tr>\n",
              "  </thead>\n",
              "  <tbody>\n",
              "    <tr>\n",
              "      <th>0</th>\n",
              "      <td>1</td>\n",
              "      <td>20148-40.jpg</td>\n",
              "      <td>[]</td>\n",
              "      <td>0</td>\n",
              "      <td>[]</td>\n",
              "      <td>0</td>\n",
              "    </tr>\n",
              "    <tr>\n",
              "      <th>1</th>\n",
              "      <td>2</td>\n",
              "      <td>20982-10.jpg</td>\n",
              "      <td>[portrait]</td>\n",
              "      <td>1</td>\n",
              "      <td>[bird, unspecified, church, steeple, window, 1...</td>\n",
              "      <td>13</td>\n",
              "    </tr>\n",
              "    <tr>\n",
              "      <th>2</th>\n",
              "      <td>3</td>\n",
              "      <td>31714-10.jpg</td>\n",
              "      <td>[]</td>\n",
              "      <td>0</td>\n",
              "      <td>[1680-onward, late Stuart / Georgian, man, num...</td>\n",
              "      <td>3</td>\n",
              "    </tr>\n",
              "    <tr>\n",
              "      <th>3</th>\n",
              "      <td>4</td>\n",
              "      <td>30230-40.jpg</td>\n",
              "      <td>[portrait]</td>\n",
              "      <td>1</td>\n",
              "      <td>[fan, number of figures - 1, outdoor, 1603-162...</td>\n",
              "      <td>6</td>\n",
              "    </tr>\n",
              "    <tr>\n",
              "      <th>4</th>\n",
              "      <td>5</td>\n",
              "      <td>21213-10.jpg</td>\n",
              "      <td>[]</td>\n",
              "      <td>0</td>\n",
              "      <td>[]</td>\n",
              "      <td>0</td>\n",
              "    </tr>\n",
              "    <tr>\n",
              "      <th>...</th>\n",
              "      <td>...</td>\n",
              "      <td>...</td>\n",
              "      <td>...</td>\n",
              "      <td>...</td>\n",
              "      <td>...</td>\n",
              "      <td>...</td>\n",
              "    </tr>\n",
              "    <tr>\n",
              "      <th>16098</th>\n",
              "      <td>16108</td>\n",
              "      <td>36412-20.jpg</td>\n",
              "      <td>[]</td>\n",
              "      <td>0</td>\n",
              "      <td>[]</td>\n",
              "      <td>0</td>\n",
              "    </tr>\n",
              "    <tr>\n",
              "      <th>16099</th>\n",
              "      <td>16109</td>\n",
              "      <td>36413-10.jpg</td>\n",
              "      <td>[]</td>\n",
              "      <td>0</td>\n",
              "      <td>[]</td>\n",
              "      <td>0</td>\n",
              "    </tr>\n",
              "    <tr>\n",
              "      <th>16100</th>\n",
              "      <td>16110</td>\n",
              "      <td>36413-20.jpg</td>\n",
              "      <td>[]</td>\n",
              "      <td>0</td>\n",
              "      <td>[]</td>\n",
              "      <td>0</td>\n",
              "    </tr>\n",
              "    <tr>\n",
              "      <th>16101</th>\n",
              "      <td>16111</td>\n",
              "      <td>36414-10.jpg</td>\n",
              "      <td>[]</td>\n",
              "      <td>0</td>\n",
              "      <td>[]</td>\n",
              "      <td>0</td>\n",
              "    </tr>\n",
              "    <tr>\n",
              "      <th>16102</th>\n",
              "      <td>16112</td>\n",
              "      <td>36414-20.jpg</td>\n",
              "      <td>[]</td>\n",
              "      <td>0</td>\n",
              "      <td>[]</td>\n",
              "      <td>0</td>\n",
              "    </tr>\n",
              "  </tbody>\n",
              "</table>\n",
              "<p>16103 rows × 6 columns</p>\n",
              "</div>"
            ],
            "text/plain": [
              "       IMP_ID  ... num_desc_tags\n",
              "0           1  ...             0\n",
              "1           2  ...            13\n",
              "2           3  ...             3\n",
              "3           4  ...             6\n",
              "4           5  ...             0\n",
              "...       ...  ...           ...\n",
              "16098   16108  ...             0\n",
              "16099   16109  ...             0\n",
              "16100   16110  ...             0\n",
              "16101   16111  ...             0\n",
              "16102   16112  ...             0\n",
              "\n",
              "[16103 rows x 6 columns]"
            ]
          },
          "metadata": {
            "tags": []
          },
          "execution_count": 6
        }
      ]
    },
    {
      "cell_type": "markdown",
      "metadata": {
        "id": "7HrDs5KK2WU5"
      },
      "source": [
        "# Off the bat, it appears about 9000 of the entries lack both descriptive tags and genre labels together\n",
        "\n",
        "\n"
      ]
    },
    {
      "cell_type": "code",
      "metadata": {
        "colab": {
          "base_uri": "https://localhost:8080/",
          "height": 419
        },
        "id": "-Seeg8vx2wnm",
        "outputId": "cfd6ade1-abb2-4e15-acb7-e4c409cb1e92"
      },
      "source": [
        "df[df['num_desc_tags'] == 0]\n",
        "\n"
      ],
      "execution_count": null,
      "outputs": [
        {
          "output_type": "execute_result",
          "data": {
            "text/html": [
              "<div>\n",
              "<style scoped>\n",
              "    .dataframe tbody tr th:only-of-type {\n",
              "        vertical-align: middle;\n",
              "    }\n",
              "\n",
              "    .dataframe tbody tr th {\n",
              "        vertical-align: top;\n",
              "    }\n",
              "\n",
              "    .dataframe thead th {\n",
              "        text-align: right;\n",
              "    }\n",
              "</style>\n",
              "<table border=\"1\" class=\"dataframe\">\n",
              "  <thead>\n",
              "    <tr style=\"text-align: right;\">\n",
              "      <th></th>\n",
              "      <th>IMP_ID</th>\n",
              "      <th>filename</th>\n",
              "      <th>genre_terms</th>\n",
              "      <th>num_genres</th>\n",
              "      <th>desc_tags</th>\n",
              "      <th>num_desc_tags</th>\n",
              "    </tr>\n",
              "  </thead>\n",
              "  <tbody>\n",
              "    <tr>\n",
              "      <th>0</th>\n",
              "      <td>1</td>\n",
              "      <td>20148-40.jpg</td>\n",
              "      <td>[]</td>\n",
              "      <td>0</td>\n",
              "      <td>[]</td>\n",
              "      <td>0</td>\n",
              "    </tr>\n",
              "    <tr>\n",
              "      <th>4</th>\n",
              "      <td>5</td>\n",
              "      <td>21213-10.jpg</td>\n",
              "      <td>[]</td>\n",
              "      <td>0</td>\n",
              "      <td>[]</td>\n",
              "      <td>0</td>\n",
              "    </tr>\n",
              "    <tr>\n",
              "      <th>6</th>\n",
              "      <td>7</td>\n",
              "      <td>21051-10.jpg</td>\n",
              "      <td>[]</td>\n",
              "      <td>0</td>\n",
              "      <td>[]</td>\n",
              "      <td>0</td>\n",
              "    </tr>\n",
              "    <tr>\n",
              "      <th>9</th>\n",
              "      <td>10</td>\n",
              "      <td>21321-10.jpg</td>\n",
              "      <td>[]</td>\n",
              "      <td>0</td>\n",
              "      <td>[]</td>\n",
              "      <td>0</td>\n",
              "    </tr>\n",
              "    <tr>\n",
              "      <th>10</th>\n",
              "      <td>11</td>\n",
              "      <td>21852-40.jpg</td>\n",
              "      <td>[]</td>\n",
              "      <td>0</td>\n",
              "      <td>[]</td>\n",
              "      <td>0</td>\n",
              "    </tr>\n",
              "    <tr>\n",
              "      <th>...</th>\n",
              "      <td>...</td>\n",
              "      <td>...</td>\n",
              "      <td>...</td>\n",
              "      <td>...</td>\n",
              "      <td>...</td>\n",
              "      <td>...</td>\n",
              "    </tr>\n",
              "    <tr>\n",
              "      <th>16098</th>\n",
              "      <td>16108</td>\n",
              "      <td>36412-20.jpg</td>\n",
              "      <td>[]</td>\n",
              "      <td>0</td>\n",
              "      <td>[]</td>\n",
              "      <td>0</td>\n",
              "    </tr>\n",
              "    <tr>\n",
              "      <th>16099</th>\n",
              "      <td>16109</td>\n",
              "      <td>36413-10.jpg</td>\n",
              "      <td>[]</td>\n",
              "      <td>0</td>\n",
              "      <td>[]</td>\n",
              "      <td>0</td>\n",
              "    </tr>\n",
              "    <tr>\n",
              "      <th>16100</th>\n",
              "      <td>16110</td>\n",
              "      <td>36413-20.jpg</td>\n",
              "      <td>[]</td>\n",
              "      <td>0</td>\n",
              "      <td>[]</td>\n",
              "      <td>0</td>\n",
              "    </tr>\n",
              "    <tr>\n",
              "      <th>16101</th>\n",
              "      <td>16111</td>\n",
              "      <td>36414-10.jpg</td>\n",
              "      <td>[]</td>\n",
              "      <td>0</td>\n",
              "      <td>[]</td>\n",
              "      <td>0</td>\n",
              "    </tr>\n",
              "    <tr>\n",
              "      <th>16102</th>\n",
              "      <td>16112</td>\n",
              "      <td>36414-20.jpg</td>\n",
              "      <td>[]</td>\n",
              "      <td>0</td>\n",
              "      <td>[]</td>\n",
              "      <td>0</td>\n",
              "    </tr>\n",
              "  </tbody>\n",
              "</table>\n",
              "<p>9808 rows × 6 columns</p>\n",
              "</div>"
            ],
            "text/plain": [
              "       IMP_ID      filename genre_terms  num_genres desc_tags  num_desc_tags\n",
              "0           1  20148-40.jpg          []           0        []              0\n",
              "4           5  21213-10.jpg          []           0        []              0\n",
              "6           7  21051-10.jpg          []           0        []              0\n",
              "9          10  21321-10.jpg          []           0        []              0\n",
              "10         11  21852-40.jpg          []           0        []              0\n",
              "...       ...           ...         ...         ...       ...            ...\n",
              "16098   16108  36412-20.jpg          []           0        []              0\n",
              "16099   16109  36413-10.jpg          []           0        []              0\n",
              "16100   16110  36413-20.jpg          []           0        []              0\n",
              "16101   16111  36414-10.jpg          []           0        []              0\n",
              "16102   16112  36414-20.jpg          []           0        []              0\n",
              "\n",
              "[9808 rows x 6 columns]"
            ]
          },
          "metadata": {
            "tags": []
          },
          "execution_count": 56
        }
      ]
    },
    {
      "cell_type": "code",
      "metadata": {
        "colab": {
          "base_uri": "https://localhost:8080/"
        },
        "id": "bX9DFrzV2wuf",
        "outputId": "e8728271-824b-41d9-b563-93efa6e5c11f"
      },
      "source": [
        "df[df['num_genres'] == 0]['desc_tags']"
      ],
      "execution_count": null,
      "outputs": [
        {
          "output_type": "execute_result",
          "data": {
            "text/plain": [
              "0                                                       []\n",
              "2        [1680-onward, late Stuart / Georgian, man, num...\n",
              "4                                                       []\n",
              "6                                                       []\n",
              "9                                                       []\n",
              "                               ...                        \n",
              "16098                                                   []\n",
              "16099                                                   []\n",
              "16100                                                   []\n",
              "16101                                                   []\n",
              "16102                                                   []\n",
              "Name: desc_tags, Length: 9932, dtype: object"
            ]
          },
          "metadata": {
            "tags": []
          },
          "execution_count": 60
        }
      ]
    },
    {
      "cell_type": "code",
      "metadata": {
        "id": "7DPQ-zsa2wzm"
      },
      "source": [
        ""
      ],
      "execution_count": null,
      "outputs": []
    },
    {
      "cell_type": "code",
      "metadata": {
        "id": "RalTXnEW2nGy"
      },
      "source": [
        "df['num_desc_tags'].value_counts()"
      ],
      "execution_count": null,
      "outputs": []
    },
    {
      "cell_type": "code",
      "metadata": {
        "colab": {
          "base_uri": "https://localhost:8080/",
          "height": 611
        },
        "id": "dvDI5IYZ0Ze2",
        "outputId": "d1445d34-0bd1-418f-ebcc-13724ac63869"
      },
      "source": [
        "df['num_desc_tags'].value_counts().sort_values(ascending = False).plot.bar(figsize = (20,10))"
      ],
      "execution_count": null,
      "outputs": [
        {
          "output_type": "execute_result",
          "data": {
            "text/plain": [
              "<matplotlib.axes._subplots.AxesSubplot at 0x7f7caee968d0>"
            ]
          },
          "metadata": {
            "tags": []
          },
          "execution_count": 26
        },
        {
          "output_type": "display_data",
          "data": {
            "image/png": "[encoded data removed]",
            "text/plain": [
              "<Figure size 1440x720 with 1 Axes>"
            ]
          },
          "metadata": {
            "tags": [],
            "needs_background": "light"
          }
        }
      ]
    },
    {
      "cell_type": "code",
      "metadata": {
        "colab": {
          "base_uri": "https://localhost:8080/",
          "height": 605
        },
        "id": "o7X8xgjc2eN0",
        "outputId": "053ceab3-6746-45d3-c470-fdad36e9cff7"
      },
      "source": [
        "df['num_genres'].value_counts().sort_values(ascending = False).plot.bar(figsize = (20,10))"
      ],
      "execution_count": null,
      "outputs": [
        {
          "output_type": "execute_result",
          "data": {
            "text/plain": [
              "<matplotlib.axes._subplots.AxesSubplot at 0x7f7ca656a8d0>"
            ]
          },
          "metadata": {
            "tags": []
          },
          "execution_count": 37
        },
        {
          "output_type": "display_data",
          "data": {
            "image/png": "[encoded data removed]",
            "text/plain": [
              "<Figure size 1440x720 with 1 Axes>"
            ]
          },
          "metadata": {
            "tags": [],
            "needs_background": "light"
          }
        }
      ]
    },
    {
      "cell_type": "code",
      "metadata": {
        "colab": {
          "base_uri": "https://localhost:8080/",
          "height": 611
        },
        "id": "MMexoh8E1ReK",
        "outputId": "55c0cc2a-cf8a-42e8-aeac-b58b02c1a009"
      },
      "source": [
        "df[df['num_desc_tags'] != 0]['num_desc_tags'].value_counts().sort_values(ascending = False).plot.bar(figsize = (20,10))"
      ],
      "execution_count": null,
      "outputs": [
        {
          "output_type": "execute_result",
          "data": {
            "text/plain": [
              "<matplotlib.axes._subplots.AxesSubplot at 0x7f7ca668c978>"
            ]
          },
          "metadata": {
            "tags": []
          },
          "execution_count": 36
        },
        {
          "output_type": "display_data",
          "data": {
            "image/png": "[encoded data removed]",
            "text/plain": [
              "<Figure size 1440x720 with 1 Axes>"
            ]
          },
          "metadata": {
            "tags": [],
            "needs_background": "light"
          }
        }
      ]
    }
  ]
}