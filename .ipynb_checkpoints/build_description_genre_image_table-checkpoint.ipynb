{
 "cells": [
  {
   "cell_type": "markdown",
   "metadata": {
    "id": "7dPptz-Uxw0o"
   },
   "source": [
    "### This directory contains woodcut metadata for the English Broadside Ballad Archive (EBBA). A team at EBBA developed a tag taxonomy for a set of ~16,000 woodcut images\n",
    "\n",
    "Each woodcut was tagged with one or two genre terms and then with a variable number of descriptive tags, depending on the image."
   ]
  },
  {
   "cell_type": "markdown",
   "metadata": {
    "id": "hMjzRGE7xxe-"
   },
   "source": [
    "| Tag type\t  | Tag description\t\t\t\t\t\t\t\t\t\t\t\t\t\t\t\t\t\t|\n",
    "|-------------|-------------------------------------------------------------------------------------|\n",
    "| Genre\t\t  | a type of woodcut impression (portrait, landscape, etc)\t\t\t\t\t\t\t\t|\n",
    "| Descriptive | specific representations in the woodcut impression (animals, objects, people, etc.) |"
   ]
  },
  {
   "cell_type": "code",
   "execution_count": 1,
   "metadata": {
    "id": "6ea7o_EtX-KN"
   },
   "outputs": [],
   "source": [
    "# Data Exploration\n",
    "import pandas as pd\n",
    "import numpy as np\n",
    "\n",
    "# Visualization\n",
    "import matplotlib.pyplot as plt\n",
    "import seaborn as sns\n",
    "\n",
    "# Enhanced table viewing\n",
    "# %load_ext google.colab.data_table"
   ]
  },
  {
   "cell_type": "markdown",
   "metadata": {
    "id": "Vzy-5YuyWuyB"
   },
   "source": [
    "# **Gain insight as to how the tables are associated**\n",
    "\n"
   ]
  },
  {
   "cell_type": "code",
   "execution_count": 2,
   "metadata": {
    "id": "mHYa81J4wWna"
   },
   "outputs": [],
   "source": [
    "# Load the Data\n",
    "# desc_tags = pd.read_csv('https://raw.githubusercontent.com/KyleCodes/blockprints/main/descriptiveTags.csv')\n",
    "# genre_terms = pd.read_csv('https://raw.githubusercontent.com/KyleCodes/blockprints/main/genreTerms.csv')\n",
    "# imp_desc_tags = pd.read_csv('https://raw.githubusercontent.com/KyleCodes/blockprints/main/impDescriptiveTags.csv')\n",
    "# imp_genre_terms = pd.read_csv('https://raw.githubusercontent.com/KyleCodes/blockprints/main/impGenreTerms.csv')\n",
    "# impression_ids = pd.read_csv('https://raw.githubusercontent.com/KyleCodes/blockprints/main/impressions.csv')\n",
    "\n",
    "# descriptiveTags.csv\n",
    "\n",
    "desc_tags = pd.read_csv('descriptiveTags.csv')\n",
    "genre_terms = pd.read_csv('genreTerms.csv')\n",
    "imp_desc_tags = pd.read_csv('impDescriptiveTags.csv')\n",
    "imp_genre_terms = pd.read_csv('impGenreTerms.csv')\n",
    "impression_ids = pd.read_csv('impressions.csv')\n"
   ]
  },
  {
   "cell_type": "markdown",
   "metadata": {
    "id": "ci49wiixdsgV"
   },
   "source": [
    "<hr>\n",
    "\n",
    "### **GENRE TERMS** \n",
    "check number of unique items and observe their mapping to IDs"
   ]
  },
  {
   "cell_type": "code",
   "execution_count": 3,
   "metadata": {
    "colab": {
     "base_uri": "https://localhost:8080/",
     "height": 194
    },
    "id": "HC0nVXvwYo7v",
    "outputId": "81c8f85b-1346-445d-87a5-6bcc644e7453"
   },
   "outputs": [
    {
     "data": {
      "text/html": [
       "<div>\n",
       "<style scoped>\n",
       "    .dataframe tbody tr th:only-of-type {\n",
       "        vertical-align: middle;\n",
       "    }\n",
       "\n",
       "    .dataframe tbody tr th {\n",
       "        vertical-align: top;\n",
       "    }\n",
       "\n",
       "    .dataframe thead th {\n",
       "        text-align: right;\n",
       "    }\n",
       "</style>\n",
       "<table border=\"1\" class=\"dataframe\">\n",
       "  <thead>\n",
       "    <tr style=\"text-align: right;\">\n",
       "      <th></th>\n",
       "      <th>BGT_ID</th>\n",
       "      <th>BGT_Term</th>\n",
       "    </tr>\n",
       "  </thead>\n",
       "  <tbody>\n",
       "    <tr>\n",
       "      <th>0</th>\n",
       "      <td>17</td>\n",
       "      <td>map</td>\n",
       "    </tr>\n",
       "    <tr>\n",
       "      <th>1</th>\n",
       "      <td>3</td>\n",
       "      <td>allegory</td>\n",
       "    </tr>\n",
       "    <tr>\n",
       "      <th>2</th>\n",
       "      <td>14</td>\n",
       "      <td>maritime</td>\n",
       "    </tr>\n",
       "    <tr>\n",
       "      <th>3</th>\n",
       "      <td>5</td>\n",
       "      <td>portrait</td>\n",
       "    </tr>\n",
       "    <tr>\n",
       "      <th>4</th>\n",
       "      <td>16</td>\n",
       "      <td>architecture</td>\n",
       "    </tr>\n",
       "  </tbody>\n",
       "</table>\n",
       "</div>"
      ],
      "text/plain": [
       "   BGT_ID      BGT_Term\n",
       "0      17           map\n",
       "1       3      allegory\n",
       "2      14      maritime\n",
       "3       5      portrait\n",
       "4      16  architecture"
      ]
     },
     "execution_count": 3,
     "metadata": {},
     "output_type": "execute_result"
    }
   ],
   "source": [
    "genre_terms.head()"
   ]
  },
  {
   "cell_type": "code",
   "execution_count": 4,
   "metadata": {
    "colab": {
     "base_uri": "https://localhost:8080/"
    },
    "id": "-ktVhXnd0Hly",
    "outputId": "9b066bf2-de03-495a-c33c-d53f4f52c843"
   },
   "outputs": [
    {
     "data": {
      "text/plain": [
       "12"
      ]
     },
     "execution_count": 4,
     "metadata": {},
     "output_type": "execute_result"
    }
   ],
   "source": [
    "# Number of genre terms: 12\n",
    "len(genre_terms['BGT_Term'].unique())"
   ]
  },
  {
   "cell_type": "markdown",
   "metadata": {
    "id": "PmwUhwuzd5G7"
   },
   "source": [
    "<hr>\n",
    "\n",
    "### **DESCRIPTIVE TAGS**\n",
    "check number of unique items and observe their mapping to IDs\n"
   ]
  },
  {
   "cell_type": "code",
   "execution_count": 5,
   "metadata": {
    "colab": {
     "base_uri": "https://localhost:8080/",
     "height": 194
    },
    "id": "Icxlqa62jXoM",
    "outputId": "81dec2d6-723a-4356-fd21-1dd519caab1a"
   },
   "outputs": [
    {
     "data": {
      "text/html": [
       "<div>\n",
       "<style scoped>\n",
       "    .dataframe tbody tr th:only-of-type {\n",
       "        vertical-align: middle;\n",
       "    }\n",
       "\n",
       "    .dataframe tbody tr th {\n",
       "        vertical-align: top;\n",
       "    }\n",
       "\n",
       "    .dataframe thead th {\n",
       "        text-align: right;\n",
       "    }\n",
       "</style>\n",
       "<table border=\"1\" class=\"dataframe\">\n",
       "  <thead>\n",
       "    <tr style=\"text-align: right;\">\n",
       "      <th></th>\n",
       "      <th>DT_ID</th>\n",
       "      <th>DT_Tag</th>\n",
       "    </tr>\n",
       "  </thead>\n",
       "  <tbody>\n",
       "    <tr>\n",
       "      <th>0</th>\n",
       "      <td>1</td>\n",
       "      <td>ax</td>\n",
       "    </tr>\n",
       "    <tr>\n",
       "      <th>1</th>\n",
       "      <td>2</td>\n",
       "      <td>candle</td>\n",
       "    </tr>\n",
       "    <tr>\n",
       "      <th>2</th>\n",
       "      <td>3</td>\n",
       "      <td>carriage</td>\n",
       "    </tr>\n",
       "    <tr>\n",
       "      <th>3</th>\n",
       "      <td>4</td>\n",
       "      <td>knife / dagger</td>\n",
       "    </tr>\n",
       "    <tr>\n",
       "      <th>4</th>\n",
       "      <td>5</td>\n",
       "      <td>loom</td>\n",
       "    </tr>\n",
       "  </tbody>\n",
       "</table>\n",
       "</div>"
      ],
      "text/plain": [
       "   DT_ID          DT_Tag\n",
       "0      1              ax\n",
       "1      2          candle\n",
       "2      3        carriage\n",
       "3      4  knife / dagger\n",
       "4      5            loom"
      ]
     },
     "execution_count": 5,
     "metadata": {},
     "output_type": "execute_result"
    }
   ],
   "source": [
    "desc_tags.head()"
   ]
  },
  {
   "cell_type": "code",
   "execution_count": 6,
   "metadata": {
    "colab": {
     "base_uri": "https://localhost:8080/"
    },
    "id": "_9E9s5fYxY1t",
    "outputId": "21efded2-c057-4d9b-c813-cc069b5d8118"
   },
   "outputs": [
    {
     "data": {
      "text/plain": [
       "411"
      ]
     },
     "execution_count": 6,
     "metadata": {},
     "output_type": "execute_result"
    }
   ],
   "source": [
    "# Number of descriptive terms\n",
    "len(desc_tags['DT_Tag'].unique())"
   ]
  },
  {
   "cell_type": "markdown",
   "metadata": {
    "id": "DZZBcng5d9DF"
   },
   "source": [
    "<hr>\n",
    "\n",
    "### **IMPRESSION IDS (image file names)**\n",
    "check number of unique items and observe their mapping to IDs"
   ]
  },
  {
   "cell_type": "code",
   "execution_count": 7,
   "metadata": {
    "colab": {
     "base_uri": "https://localhost:8080/",
     "height": 194
    },
    "id": "yHyPTLrMkYqR",
    "outputId": "235f39d6-3680-43e6-d527-8f8c41abd357"
   },
   "outputs": [
    {
     "data": {
      "text/html": [
       "<div>\n",
       "<style scoped>\n",
       "    .dataframe tbody tr th:only-of-type {\n",
       "        vertical-align: middle;\n",
       "    }\n",
       "\n",
       "    .dataframe tbody tr th {\n",
       "        vertical-align: top;\n",
       "    }\n",
       "\n",
       "    .dataframe thead th {\n",
       "        text-align: right;\n",
       "    }\n",
       "</style>\n",
       "<table border=\"1\" class=\"dataframe\">\n",
       "  <thead>\n",
       "    <tr style=\"text-align: right;\">\n",
       "      <th></th>\n",
       "      <th>IMP_ID</th>\n",
       "      <th>IMP_File</th>\n",
       "    </tr>\n",
       "  </thead>\n",
       "  <tbody>\n",
       "    <tr>\n",
       "      <th>0</th>\n",
       "      <td>1</td>\n",
       "      <td>20148-40.jpg</td>\n",
       "    </tr>\n",
       "    <tr>\n",
       "      <th>1</th>\n",
       "      <td>2</td>\n",
       "      <td>20982-10.jpg</td>\n",
       "    </tr>\n",
       "    <tr>\n",
       "      <th>2</th>\n",
       "      <td>3</td>\n",
       "      <td>31714-10.jpg</td>\n",
       "    </tr>\n",
       "    <tr>\n",
       "      <th>3</th>\n",
       "      <td>4</td>\n",
       "      <td>30230-40.jpg</td>\n",
       "    </tr>\n",
       "    <tr>\n",
       "      <th>4</th>\n",
       "      <td>5</td>\n",
       "      <td>21213-10.jpg</td>\n",
       "    </tr>\n",
       "  </tbody>\n",
       "</table>\n",
       "</div>"
      ],
      "text/plain": [
       "   IMP_ID      IMP_File\n",
       "0       1  20148-40.jpg\n",
       "1       2  20982-10.jpg\n",
       "2       3  31714-10.jpg\n",
       "3       4  30230-40.jpg\n",
       "4       5  21213-10.jpg"
      ]
     },
     "execution_count": 7,
     "metadata": {},
     "output_type": "execute_result"
    }
   ],
   "source": [
    "impression_ids.head()"
   ]
  },
  {
   "cell_type": "code",
   "execution_count": 8,
   "metadata": {
    "colab": {
     "base_uri": "https://localhost:8080/"
    },
    "id": "Dp46y-wSc3po",
    "outputId": "ea566dd0-a717-4969-fd02-09f3b8f1a46e"
   },
   "outputs": [
    {
     "data": {
      "text/plain": [
       "16103"
      ]
     },
     "execution_count": 8,
     "metadata": {},
     "output_type": "execute_result"
    }
   ],
   "source": [
    "# Number of woodblock impressions\n",
    "len(impression_ids['IMP_File'].unique())"
   ]
  },
  {
   "cell_type": "markdown",
   "metadata": {
    "id": "hdDkHPbWeCoL"
   },
   "source": [
    "<hr>\n",
    "\n",
    "### **IMP DESCRIPTIVE TAGS (maps descriptive tags to images)**\n",
    "* `IDT_ID`: id (linking/association of tags to photo) \n",
    "* `IDT_IMP_ID`: impression id (photo) -> `IMP_ID` in impression_ids df\n",
    "* `IDT_DT_ID`: descriptive tag id (tag)-> `DT_ID` in desc_tags df\n"
   ]
  },
  {
   "cell_type": "code",
   "execution_count": 9,
   "metadata": {
    "colab": {
     "base_uri": "https://localhost:8080/",
     "height": 194
    },
    "id": "SAMbWzL0mVBj",
    "outputId": "89bc1010-e9c4-4927-d5ea-287ac9323375"
   },
   "outputs": [
    {
     "data": {
      "text/html": [
       "<div>\n",
       "<style scoped>\n",
       "    .dataframe tbody tr th:only-of-type {\n",
       "        vertical-align: middle;\n",
       "    }\n",
       "\n",
       "    .dataframe tbody tr th {\n",
       "        vertical-align: top;\n",
       "    }\n",
       "\n",
       "    .dataframe thead th {\n",
       "        text-align: right;\n",
       "    }\n",
       "</style>\n",
       "<table border=\"1\" class=\"dataframe\">\n",
       "  <thead>\n",
       "    <tr style=\"text-align: right;\">\n",
       "      <th></th>\n",
       "      <th>IDT_ID</th>\n",
       "      <th>IDT_IMP_ID</th>\n",
       "      <th>IDT_DT_ID</th>\n",
       "    </tr>\n",
       "  </thead>\n",
       "  <tbody>\n",
       "    <tr>\n",
       "      <th>0</th>\n",
       "      <td>64500</td>\n",
       "      <td>1090</td>\n",
       "      <td>264</td>\n",
       "    </tr>\n",
       "    <tr>\n",
       "      <th>1</th>\n",
       "      <td>45790</td>\n",
       "      <td>4418</td>\n",
       "      <td>638</td>\n",
       "    </tr>\n",
       "    <tr>\n",
       "      <th>2</th>\n",
       "      <td>45792</td>\n",
       "      <td>4418</td>\n",
       "      <td>252</td>\n",
       "    </tr>\n",
       "    <tr>\n",
       "      <th>3</th>\n",
       "      <td>68057</td>\n",
       "      <td>3587</td>\n",
       "      <td>330</td>\n",
       "    </tr>\n",
       "    <tr>\n",
       "      <th>4</th>\n",
       "      <td>45788</td>\n",
       "      <td>4418</td>\n",
       "      <td>302</td>\n",
       "    </tr>\n",
       "  </tbody>\n",
       "</table>\n",
       "</div>"
      ],
      "text/plain": [
       "   IDT_ID  IDT_IMP_ID  IDT_DT_ID\n",
       "0   64500        1090        264\n",
       "1   45790        4418        638\n",
       "2   45792        4418        252\n",
       "3   68057        3587        330\n",
       "4   45788        4418        302"
      ]
     },
     "execution_count": 9,
     "metadata": {},
     "output_type": "execute_result"
    }
   ],
   "source": [
    "imp_desc_tags.head()"
   ]
  },
  {
   "cell_type": "code",
   "execution_count": 10,
   "metadata": {
    "colab": {
     "base_uri": "https://localhost:8080/"
    },
    "id": "-GU6YYfC6Jtv",
    "outputId": "a2e4afa5-aa69-4227-a7d6-1507dc4ffde6"
   },
   "outputs": [
    {
     "data": {
      "text/plain": [
       "46431"
      ]
     },
     "execution_count": 10,
     "metadata": {},
     "output_type": "execute_result"
    }
   ],
   "source": [
    "len(imp_desc_tags)"
   ]
  },
  {
   "cell_type": "code",
   "execution_count": 11,
   "metadata": {
    "colab": {
     "base_uri": "https://localhost:8080/"
    },
    "id": "lTksF_sudFt6",
    "outputId": "1c91985f-fa0f-4d9f-a02f-0fe6c05e182d"
   },
   "outputs": [
    {
     "data": {
      "text/plain": [
       "67583    1\n",
       "48509    1\n",
       "36219    1\n",
       "34170    1\n",
       "38264    1\n",
       "        ..\n",
       "84700    1\n",
       "31694    1\n",
       "72406    1\n",
       "66261    1\n",
       "67585    1\n",
       "Name: IDT_ID, Length: 46431, dtype: int64"
      ]
     },
     "execution_count": 11,
     "metadata": {},
     "output_type": "execute_result"
    }
   ],
   "source": [
    "# Unique identifier for a particular image-descriptive_tag mapping\n",
    "imp_desc_tags['IDT_ID'].value_counts()"
   ]
  },
  {
   "cell_type": "code",
   "execution_count": 12,
   "metadata": {
    "colab": {
     "base_uri": "https://localhost:8080/"
    },
    "id": "3EDjnZTmmtvM",
    "outputId": "3a85490f-81a8-41e6-fed8-c0ce2a99ab9f"
   },
   "outputs": [
    {
     "data": {
      "text/plain": [
       "1548     50\n",
       "5428     39\n",
       "1024     33\n",
       "4125     33\n",
       "4037     33\n",
       "         ..\n",
       "6375      1\n",
       "6374      1\n",
       "11465     1\n",
       "6563      1\n",
       "2993      1\n",
       "Name: IDT_IMP_ID, Length: 6295, dtype: int64"
      ]
     },
     "execution_count": 12,
     "metadata": {},
     "output_type": "execute_result"
    }
   ],
   "source": [
    "'''\n",
    "  IDT_IMP_ID is a particular image ID within impression_ids df\n",
    "  Notice that there can be many DTs associated to an impression, up to 50 per image\n",
    "'''\n",
    "\n",
    "imp_desc_tags['IDT_IMP_ID'].value_counts()"
   ]
  },
  {
   "cell_type": "code",
   "execution_count": 13,
   "metadata": {
    "colab": {
     "base_uri": "https://localhost:8080/"
    },
    "id": "k7Tt-C74nrxM",
    "outputId": "5b2aea38-a825-45fb-bd0c-4329619cbba3"
   },
   "outputs": [
    {
     "name": "stdout",
     "output_type": "stream",
     "text": [
      "=================================\n",
      "5 most common descriptors\n",
      "=================================\n",
      "COUNT: 4008\tTAG: ['man']\n",
      "COUNT: 3727\tTAG: ['number of figures - 1']\n",
      "COUNT: 3020\tTAG: ['outdoor']\n",
      "COUNT: 2467\tTAG: ['woman']\n",
      "COUNT: 1303\tTAG: ['1625-1660, Caroline / Interregnum']\n",
      "\n",
      "=================================\n",
      "5 least common descriptors\n",
      "=================================\n",
      "COUNT: 1\tTAG: ['Numeral 0']\n",
      "COUNT: 1\tTAG: ['storm']\n",
      "COUNT: 1\tTAG: ['chevron']\n",
      "COUNT: 1\tTAG: [\"printing press / printer's tools\"]\n",
      "COUNT: 1\tTAG: ['Numeral 7']\n"
     ]
    }
   ],
   "source": [
    "'''\n",
    "  IDT_DT_ID is a particular descriptor tag within desc_tags df\n",
    "  Notice that some descriptive tags occur more frequently than others\n",
    "'''\n",
    "\n",
    "five_most_counts = imp_desc_tags['IDT_DT_ID'].value_counts().head(5).values\n",
    "five_least_counts = imp_desc_tags['IDT_DT_ID'].value_counts().tail(5).values\n",
    "\n",
    "\n",
    "# Print 5 most frequently occuring descriptive tags\n",
    "print('=================================\\n5 most common descriptors\\n=================================')\n",
    "j = 0\n",
    "for i in imp_desc_tags['IDT_DT_ID'].value_counts().head(5).index:\n",
    "  tag_name = str(desc_tags[desc_tags['DT_ID'] == i]['DT_Tag'].values)\n",
    "  n = str(five_most_counts[j])\n",
    "  print('COUNT: ' + n + '\\tTAG: ' + tag_name)\n",
    "  j += 1\n",
    "\n",
    "# Print 5 least frequently occurring tags \n",
    "print('\\n=================================\\n5 least common descriptors\\n=================================')\n",
    "j = 0\n",
    "for i in imp_desc_tags['IDT_DT_ID'].value_counts().tail(5).index:\n",
    "  tag_name = str(desc_tags[desc_tags['DT_ID'] == i]['DT_Tag'].values)\n",
    "  n = str(five_least_counts[j])\n",
    "  print('COUNT: ' + n + '\\tTAG: ' + tag_name)\n",
    "  j += 1\n"
   ]
  },
  {
   "cell_type": "markdown",
   "metadata": {
    "id": "0WX-HLGxeHKd"
   },
   "source": [
    "<hr>\n",
    "\n",
    "### **IMP GENRE TERMS**\n"
   ]
  },
  {
   "cell_type": "code",
   "execution_count": 14,
   "metadata": {
    "colab": {
     "base_uri": "https://localhost:8080/",
     "height": 194
    },
    "id": "k_HVcMSKdF2v",
    "outputId": "198f27dc-a891-436a-e136-ace15d95d0bd"
   },
   "outputs": [
    {
     "data": {
      "text/html": [
       "<div>\n",
       "<style scoped>\n",
       "    .dataframe tbody tr th:only-of-type {\n",
       "        vertical-align: middle;\n",
       "    }\n",
       "\n",
       "    .dataframe tbody tr th {\n",
       "        vertical-align: top;\n",
       "    }\n",
       "\n",
       "    .dataframe thead th {\n",
       "        text-align: right;\n",
       "    }\n",
       "</style>\n",
       "<table border=\"1\" class=\"dataframe\">\n",
       "  <thead>\n",
       "    <tr style=\"text-align: right;\">\n",
       "      <th></th>\n",
       "      <th>IGT_ID</th>\n",
       "      <th>IGT_IMP_ID</th>\n",
       "      <th>IGT_BGT_ID</th>\n",
       "    </tr>\n",
       "  </thead>\n",
       "  <tbody>\n",
       "    <tr>\n",
       "      <th>0</th>\n",
       "      <td>7072</td>\n",
       "      <td>4418</td>\n",
       "      <td>9</td>\n",
       "    </tr>\n",
       "    <tr>\n",
       "      <th>1</th>\n",
       "      <td>7073</td>\n",
       "      <td>1961</td>\n",
       "      <td>5</td>\n",
       "    </tr>\n",
       "    <tr>\n",
       "      <th>2</th>\n",
       "      <td>1550</td>\n",
       "      <td>2479</td>\n",
       "      <td>5</td>\n",
       "    </tr>\n",
       "    <tr>\n",
       "      <th>3</th>\n",
       "      <td>2205</td>\n",
       "      <td>3885</td>\n",
       "      <td>5</td>\n",
       "    </tr>\n",
       "    <tr>\n",
       "      <th>4</th>\n",
       "      <td>7074</td>\n",
       "      <td>223</td>\n",
       "      <td>9</td>\n",
       "    </tr>\n",
       "  </tbody>\n",
       "</table>\n",
       "</div>"
      ],
      "text/plain": [
       "   IGT_ID  IGT_IMP_ID  IGT_BGT_ID\n",
       "0    7072        4418           9\n",
       "1    7073        1961           5\n",
       "2    1550        2479           5\n",
       "3    2205        3885           5\n",
       "4    7074         223           9"
      ]
     },
     "execution_count": 14,
     "metadata": {},
     "output_type": "execute_result"
    }
   ],
   "source": [
    "imp_genre_terms.head()"
   ]
  },
  {
   "cell_type": "code",
   "execution_count": 15,
   "metadata": {
    "colab": {
     "base_uri": "https://localhost:8080/"
    },
    "id": "BWjntTfF6Ywn",
    "outputId": "bce6783c-b33f-4ffd-96e3-7c92f5cfbbf0"
   },
   "outputs": [
    {
     "data": {
      "text/plain": [
       "6523"
      ]
     },
     "execution_count": 15,
     "metadata": {},
     "output_type": "execute_result"
    }
   ],
   "source": [
    "len(imp_genre_terms)"
   ]
  },
  {
   "cell_type": "code",
   "execution_count": 16,
   "metadata": {
    "colab": {
     "base_uri": "https://localhost:8080/"
    },
    "id": "nMN7EZarth8T",
    "outputId": "818e0d64-efc6-4703-9d61-8a2f8fb2b190"
   },
   "outputs": [
    {
     "data": {
      "text/plain": [
       "6141     1\n",
       "7585     1\n",
       "5520     1\n",
       "7569     1\n",
       "1426     1\n",
       "        ..\n",
       "10920    1\n",
       "10928    1\n",
       "8881     1\n",
       "6838     1\n",
       "6147     1\n",
       "Name: IGT_ID, Length: 6523, dtype: int64"
      ]
     },
     "execution_count": 16,
     "metadata": {},
     "output_type": "execute_result"
    }
   ],
   "source": [
    "# Unique identifier for a particular image-genre_term mapping\n",
    "imp_genre_terms['IGT_ID'].value_counts()"
   ]
  },
  {
   "cell_type": "code",
   "execution_count": 17,
   "metadata": {
    "colab": {
     "base_uri": "https://localhost:8080/"
    },
    "id": "nMZSfbZ1dF8Z",
    "outputId": "b940b718-9c38-47db-9951-4de8e626d07a"
   },
   "outputs": [
    {
     "data": {
      "text/plain": [
       "1777     3\n",
       "526      3\n",
       "9928     3\n",
       "5911     3\n",
       "4527     3\n",
       "        ..\n",
       "9763     1\n",
       "7425     1\n",
       "3331     1\n",
       "5380     1\n",
       "10241    1\n",
       "Name: IGT_IMP_ID, Length: 6171, dtype: int64"
      ]
     },
     "execution_count": 17,
     "metadata": {},
     "output_type": "execute_result"
    }
   ],
   "source": [
    "'''\n",
    "  IDT_IMP_ID is a particular image ID within impression_ids df\n",
    "  Notice that there can be many GTs associated to an impression, up to 3 per image\n",
    "'''\n",
    "\n",
    "imp_genre_terms['IGT_IMP_ID'].value_counts()"
   ]
  },
  {
   "cell_type": "code",
   "execution_count": 18,
   "metadata": {
    "colab": {
     "base_uri": "https://localhost:8080/"
    },
    "id": "7e7WlSi7uaD_",
    "outputId": "ec0ca866-651a-495a-cbaf-56bcdafff4d4"
   },
   "outputs": [
    {
     "name": "stdout",
     "output_type": "stream",
     "text": [
      "=================================\n",
      "5 most common genres\n",
      "=================================\n",
      "COUNT: 4154\tTAG: ['portrait']\n",
      "COUNT: 1445\tTAG: ['narrative']\n",
      "COUNT: 325\tTAG: ['emblem / symbol']\n",
      "COUNT: 180\tTAG: ['maritime']\n",
      "COUNT: 145\tTAG: ['still life']\n",
      "\n",
      "=================================\n",
      "5 least common genres\n",
      "=================================\n",
      "COUNT: 50\tTAG: ['architecture']\n",
      "COUNT: 39\tTAG: ['landscape']\n",
      "COUNT: 3\tTAG: ['map']\n",
      "COUNT: 3\tTAG: [\"printer's mark\"]\n",
      "COUNT: 2\tTAG: []\n"
     ]
    }
   ],
   "source": [
    "'''\n",
    "  IDT_DT_ID is a particular descriptor tag within desc_tags df\n",
    "  Notice that some Genre tags occur more frequently than others\n",
    "'''\n",
    "\n",
    "five_most_counts = imp_genre_terms['IGT_BGT_ID'].value_counts().head(5).values\n",
    "five_least_counts = imp_genre_terms['IGT_BGT_ID'].value_counts().tail(5).values\n",
    "\n",
    "\n",
    "# Print 5 most frequently occuring genre tags\n",
    "print('=================================\\n5 most common genres\\n=================================')\n",
    "j = 0\n",
    "for i in imp_genre_terms['IGT_BGT_ID'].value_counts().head(5).index:\n",
    "  tag_name = str(genre_terms[genre_terms['BGT_ID'] == i]['BGT_Term'].values)\n",
    "  n = str(five_most_counts[j])\n",
    "  print('COUNT: ' + n + '\\tTAG: ' + tag_name)\n",
    "  j += 1\n",
    "\n",
    "print('\\n=================================\\n5 least common genres\\n=================================')\n",
    "j = 0\n",
    "for i in imp_genre_terms['IGT_BGT_ID'].value_counts().tail(5).index:\n",
    "  tag_name = str(genre_terms[genre_terms['BGT_ID'] == i]['BGT_Term'].values)\n",
    "  n = str(five_least_counts[j])\n",
    "  print('COUNT: ' + n + '\\tTAG: ' + tag_name)\n",
    "  j += 1\n"
   ]
  },
  {
   "cell_type": "markdown",
   "metadata": {
    "id": "ZgJjnz1AbmCo"
   },
   "source": [
    "<hr>\n",
    "\n",
    "## Now the tables have been explored and we understand the way IDs create associations between the tables. \n",
    "\n",
    "### It is time to build a master dataframe to link the tables together. We will index by impression ID and include `['impression_id', 'filename', 'desc_tags', 'genr_tags']`, where the two latter columns will be permitted to store lists.\n",
    "\n",
    "**Note: This will be a pretty densely nested table solution. For our analysis we can definitely consider expanding into a sparse representation by multi-hot-encoding the categories**\n",
    "\n",
    "\n",
    "Use this guide to create a cleaned dataframe\n",
    "\n",
    "https://towardsdatascience.com/dealing-with-list-values-in-pandas-dataframes-a177e534f173"
   ]
  },
  {
   "cell_type": "code",
   "execution_count": 19,
   "metadata": {
    "id": "u6ZURNzaamnU"
   },
   "outputs": [],
   "source": [
    "# Get the list of impression IDs\n",
    "imp_id_list = impression_ids['IMP_ID'].values.tolist()\n",
    "filename_list = []\n",
    "desc_tags_by_impID = []\n",
    "desc_tag_num_by_impID = []\n",
    "genr_tags_by_impID = []\n",
    "genr_tag_num_by_impID = []\n",
    "\n",
    "\n",
    "# Loop through each impression and collect information about it\n",
    "for curr_imp_id in imp_id_list:\n",
    "  # Collect the filename for the current impression\n",
    "  filename_list.append(impression_ids[impression_ids['IMP_ID'] == curr_imp_id]['IMP_File'].values[0])\n",
    "\n",
    "  # Collect the list of tags associated with the current impression\n",
    "  curr_dt_indexes = imp_desc_tags[imp_desc_tags['IDT_IMP_ID'] == curr_imp_id]['IDT_DT_ID'].values.tolist()\n",
    "  curr_dt_values = []\n",
    "\n",
    "  for i in curr_dt_indexes:\n",
    "    try:\n",
    "      curr_dt_values.append(desc_tags[desc_tags['DT_ID'] == i]['DT_Tag'].values[0])\n",
    "    except:\n",
    "      curr_dt_values.append([])\n",
    "    \n",
    "  \n",
    "  desc_tags_by_impID.append(curr_dt_values)\n",
    "  desc_tag_num_by_impID.append(len(curr_dt_values))\n",
    "\n",
    "  # Collect the list of genres associated with the current impression\n",
    "  curr_gt_indexes = imp_genre_terms[imp_genre_terms['IGT_IMP_ID'] == curr_imp_id]['IGT_BGT_ID'].values.tolist()\n",
    "  curr_gt_values = []\n",
    "\n",
    "  for i in curr_gt_indexes:\n",
    "    try:\n",
    "      curr_gt_values.append(genre_terms[genre_terms['BGT_ID'] == i]['BGT_Term'].values[0])\n",
    "    except:\n",
    "      curr_gt_values.append([])\n",
    "\n",
    "  genr_tags_by_impID.append(curr_gt_values)\n",
    "  genr_tag_num_by_impID.append(len(curr_gt_values))\n"
   ]
  },
  {
   "cell_type": "code",
   "execution_count": 20,
   "metadata": {
    "colab": {
     "base_uri": "https://localhost:8080/",
     "height": 1023
    },
    "id": "-M9b8ApOamrm",
    "outputId": "a9ee56d3-90f0-4346-c2f9-3277baf56bd2"
   },
   "outputs": [
    {
     "data": {
      "text/html": [
       "<div>\n",
       "<style scoped>\n",
       "    .dataframe tbody tr th:only-of-type {\n",
       "        vertical-align: middle;\n",
       "    }\n",
       "\n",
       "    .dataframe tbody tr th {\n",
       "        vertical-align: top;\n",
       "    }\n",
       "\n",
       "    .dataframe thead th {\n",
       "        text-align: right;\n",
       "    }\n",
       "</style>\n",
       "<table border=\"1\" class=\"dataframe\">\n",
       "  <thead>\n",
       "    <tr style=\"text-align: right;\">\n",
       "      <th></th>\n",
       "      <th>IMP_ID</th>\n",
       "      <th>filename</th>\n",
       "      <th>genre_terms</th>\n",
       "      <th>num_genres</th>\n",
       "      <th>desc_tags</th>\n",
       "      <th>num_desc_tags</th>\n",
       "    </tr>\n",
       "  </thead>\n",
       "  <tbody>\n",
       "    <tr>\n",
       "      <th>0</th>\n",
       "      <td>1</td>\n",
       "      <td>20148-40.jpg</td>\n",
       "      <td>[]</td>\n",
       "      <td>0</td>\n",
       "      <td>[]</td>\n",
       "      <td>0</td>\n",
       "    </tr>\n",
       "    <tr>\n",
       "      <th>1</th>\n",
       "      <td>2</td>\n",
       "      <td>20982-10.jpg</td>\n",
       "      <td>[portrait]</td>\n",
       "      <td>1</td>\n",
       "      <td>[bird, unspecified, church, steeple, window, 1...</td>\n",
       "      <td>13</td>\n",
       "    </tr>\n",
       "    <tr>\n",
       "      <th>2</th>\n",
       "      <td>3</td>\n",
       "      <td>31714-10.jpg</td>\n",
       "      <td>[]</td>\n",
       "      <td>0</td>\n",
       "      <td>[1680-onward, late Stuart / Georgian, man, num...</td>\n",
       "      <td>3</td>\n",
       "    </tr>\n",
       "    <tr>\n",
       "      <th>3</th>\n",
       "      <td>4</td>\n",
       "      <td>30230-40.jpg</td>\n",
       "      <td>[portrait]</td>\n",
       "      <td>1</td>\n",
       "      <td>[fan, number of figures - 1, outdoor, 1603-162...</td>\n",
       "      <td>6</td>\n",
       "    </tr>\n",
       "    <tr>\n",
       "      <th>4</th>\n",
       "      <td>5</td>\n",
       "      <td>21213-10.jpg</td>\n",
       "      <td>[]</td>\n",
       "      <td>0</td>\n",
       "      <td>[]</td>\n",
       "      <td>0</td>\n",
       "    </tr>\n",
       "    <tr>\n",
       "      <th>...</th>\n",
       "      <td>...</td>\n",
       "      <td>...</td>\n",
       "      <td>...</td>\n",
       "      <td>...</td>\n",
       "      <td>...</td>\n",
       "      <td>...</td>\n",
       "    </tr>\n",
       "    <tr>\n",
       "      <th>16098</th>\n",
       "      <td>16108</td>\n",
       "      <td>36412-20.jpg</td>\n",
       "      <td>[]</td>\n",
       "      <td>0</td>\n",
       "      <td>[]</td>\n",
       "      <td>0</td>\n",
       "    </tr>\n",
       "    <tr>\n",
       "      <th>16099</th>\n",
       "      <td>16109</td>\n",
       "      <td>36413-10.jpg</td>\n",
       "      <td>[]</td>\n",
       "      <td>0</td>\n",
       "      <td>[]</td>\n",
       "      <td>0</td>\n",
       "    </tr>\n",
       "    <tr>\n",
       "      <th>16100</th>\n",
       "      <td>16110</td>\n",
       "      <td>36413-20.jpg</td>\n",
       "      <td>[]</td>\n",
       "      <td>0</td>\n",
       "      <td>[]</td>\n",
       "      <td>0</td>\n",
       "    </tr>\n",
       "    <tr>\n",
       "      <th>16101</th>\n",
       "      <td>16111</td>\n",
       "      <td>36414-10.jpg</td>\n",
       "      <td>[]</td>\n",
       "      <td>0</td>\n",
       "      <td>[]</td>\n",
       "      <td>0</td>\n",
       "    </tr>\n",
       "    <tr>\n",
       "      <th>16102</th>\n",
       "      <td>16112</td>\n",
       "      <td>36414-20.jpg</td>\n",
       "      <td>[]</td>\n",
       "      <td>0</td>\n",
       "      <td>[]</td>\n",
       "      <td>0</td>\n",
       "    </tr>\n",
       "  </tbody>\n",
       "</table>\n",
       "<p>16103 rows × 6 columns</p>\n",
       "</div>"
      ],
      "text/plain": [
       "       IMP_ID      filename genre_terms  num_genres  \\\n",
       "0           1  20148-40.jpg          []           0   \n",
       "1           2  20982-10.jpg  [portrait]           1   \n",
       "2           3  31714-10.jpg          []           0   \n",
       "3           4  30230-40.jpg  [portrait]           1   \n",
       "4           5  21213-10.jpg          []           0   \n",
       "...       ...           ...         ...         ...   \n",
       "16098   16108  36412-20.jpg          []           0   \n",
       "16099   16109  36413-10.jpg          []           0   \n",
       "16100   16110  36413-20.jpg          []           0   \n",
       "16101   16111  36414-10.jpg          []           0   \n",
       "16102   16112  36414-20.jpg          []           0   \n",
       "\n",
       "                                               desc_tags  num_desc_tags  \n",
       "0                                                     []              0  \n",
       "1      [bird, unspecified, church, steeple, window, 1...             13  \n",
       "2      [1680-onward, late Stuart / Georgian, man, num...              3  \n",
       "3      [fan, number of figures - 1, outdoor, 1603-162...              6  \n",
       "4                                                     []              0  \n",
       "...                                                  ...            ...  \n",
       "16098                                                 []              0  \n",
       "16099                                                 []              0  \n",
       "16100                                                 []              0  \n",
       "16101                                                 []              0  \n",
       "16102                                                 []              0  \n",
       "\n",
       "[16103 rows x 6 columns]"
      ]
     },
     "execution_count": 20,
     "metadata": {},
     "output_type": "execute_result"
    }
   ],
   "source": [
    "df = pd.DataFrame(\n",
    "    list(zip(\n",
    "        imp_id_list, \n",
    "        filename_list, \n",
    "        genr_tags_by_impID, \n",
    "        genr_tag_num_by_impID, \n",
    "        desc_tags_by_impID, \n",
    "        desc_tag_num_by_impID)), \n",
    "    columns =['IMP_ID', 'filename', 'genre_terms', 'num_genres', 'desc_tags', 'num_desc_tags']\n",
    ")\n",
    "\n",
    "df"
   ]
  },
  {
   "cell_type": "code",
   "execution_count": 25,
   "metadata": {},
   "outputs": [],
   "source": [
    "df.to_csv('joined_master.csv', index = False)"
   ]
  }
 ],
 "metadata": {
  "colab": {
   "collapsed_sections": [],
   "name": "build-description-genre-image-table.ipynb",
   "provenance": []
  },
  "kernelspec": {
   "display_name": "Python 3",
   "language": "python",
   "name": "python3"
  },
  "language_info": {
   "codemirror_mode": {
    "name": "ipython",
    "version": 3
   },
   "file_extension": ".py",
   "mimetype": "text/x-python",
   "name": "python",
   "nbconvert_exporter": "python",
   "pygments_lexer": "ipython3",
   "version": "3.8.6"
  }
 },
 "nbformat": 4,
 "nbformat_minor": 1
}
